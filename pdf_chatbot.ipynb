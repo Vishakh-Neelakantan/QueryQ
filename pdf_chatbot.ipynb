{
  "nbformat": 4,
  "nbformat_minor": 0,
  "metadata": {
    "colab": {
      "provenance": [],
      "authorship_tag": "ABX9TyP1fSJ6QMVsANIstOVrqfNk",
      "include_colab_link": true
    },
    "kernelspec": {
      "name": "python3",
      "display_name": "Python 3"
    },
    "language_info": {
      "name": "python"
    }
  },
  "cells": [
    {
      "cell_type": "markdown",
      "metadata": {
        "id": "view-in-github",
        "colab_type": "text"
      },
      "source": [
        "<a href=\"https://colab.research.google.com/github/Vishakh-Neelakantan/QueryQ/blob/main/pdf_chatbot.ipynb\" target=\"_parent\"><img src=\"https://colab.research.google.com/assets/colab-badge.svg\" alt=\"Open In Colab\"/></a>"
      ]
    },
    {
      "cell_type": "code",
      "source": [
        "# PDFChat AI: Interactive Document Query System\n",
        "# This was a part of an interctive chatbot which had to be deployed on a website.\n",
        "\n",
        "import os\n",
        "import sys\n",
        "from langchain_community.document_loaders import PyMuPDFLoader\n",
        "from langchain.indexes import VectorstoreIndexCreator\n",
        "from langchain_openai import OpenAIEmbeddings, ChatOpenAI\n",
        "import constants\n",
        "\n",
        "os.environ[\"\"] = constants.APIKEY\n",
        "\n",
        "# Assign query directly for testing purposes\n",
        "query = \"\"\n",
        "\n",
        "loaders = []\n",
        "\n",
        "pdf_loader = PyMuPDFLoader(\"\")\n",
        "loaders.append(pdf_loader)\n",
        "\n",
        "# Initialize OpenAI embeddings\n",
        "embedding = OpenAIEmbeddings()\n",
        "\n",
        "# Create vector index from loaders\n",
        "index = VectorstoreIndexCreator(embedding=embedding).from_loaders(loaders)\n",
        "\n",
        "# Initialize ChatOpenAI for language model interaction\n",
        "llm = ChatOpenAI()\n",
        "\n",
        "# Query the index with the specified query using the language model\n",
        "response = index.query(query, llm=llm)\n",
        "\n",
        "\n",
        "print(response)"
      ],
      "metadata": {
        "id": "FZu3Fyw5lvy6"
      },
      "execution_count": null,
      "outputs": []
    }
  ]
}